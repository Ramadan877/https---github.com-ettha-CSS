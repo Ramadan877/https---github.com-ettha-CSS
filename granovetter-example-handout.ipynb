{
 "cells": [
  {
   "cell_type": "markdown",
   "id": "a9dc92a5",
   "metadata": {},
   "source": [
    "# Mesa Granovetter example - Granovetter threshold model\n",
    "\n",
    "## Description\n",
    "\n",
    "Models of collective behavior are developed for situations where actors have two alternatives. The Granovetter's models treats binary decisions-those where an actor has two distinct and mutually exclusive behavioral alternatives. In most cases the decision can be thought of as having a positive and negative side- deciding to do a thing or not to, as in deciding whether to join a riot. And the costs and/or benefits of each depend on how many other actors choose which alternative. We may take riots as an example. The cost to an individual of joining a riot declines as riot size increases, since the probability of being apprehended is smaller the larger the number involved.\n",
    "\n",
    "The key concept is that of \"threshold\": the number or proportion of others who must make one decision before a given actor does so; this is the point where net benefits begin to exceed net costs for that particular actor. Different individuals require different levels of safety before entering a riot and also vary in the benefits they derive from rioting. A \"radical\" will have a low threshold: the benefits of rioting are high to him, the cost of arrest, low. Some would be sufficiently radical to have a threshold of 0%/0-people who will riot even when no one else does. These are the \"instigators.\" Conservatives will have high thresholds: the benefits of rioting are small or negative to them and the consequences of arrest high since they are likely to be \"respectable citizens\" rather than \"known rabble-rousers.\" Thresholds of 80% or 90% may be common, and we may allow for those individuals who would not join under any circumstances by assigning them a threshold of 100%. It is not necessary, in fact, to be able to classify a person as radical or conservative from his threshold, and one strength of the concept is that it permits us to avoid such crude dichotomies.\n",
    "\n",
    "Beginning with a frequency distribution of thresholds, the models allow calculation of the ultimate or \"equilibrium\" number making each decision. The stability of equilibrium results against various possible changes in threshold distributions is considered.\n",
    "Stress is placed on the importance of exact distributions for outcomes.\n",
    "\n",
    "Groups with similar average preferences may generate very different results. The models Granovetter describes, by contrast, take as the most important causal influence on outcomes the **variation** of norms and preferences within the interacting group. The normal frequency distribution is of interest here because we may take it to be characteristic of populations where no strong tendencies of any kind exist to distort a distribution of preferences away from its regular variation about some central tendency. Yet, the results obtained are striking and counterintuitive.     \n",
    "\n",
    "## Sample Model Description\n",
    "\n",
    "The excercise model is a very simple simulated agent threshold model. The aim of the formal model presented here is the same: to predict, from the initial distribution of thresholds, the ultimate number or proportion making each of the two decisions. Mathematically, the question is one of finding an equilibrium in a process occurring over time. \n",
    "\n",
    "The rules of our tutorial model:\n",
    "\n",
    "1. There are some number of agents.\n",
    "2. All agents begin with an engagagement threshold for joining a riot\n",
    "3. At every step of the model, an agent considers all other agents joining the riot to see if the proportion is above its own treshold\n",
    "4. If the agent observes that the proportion of other agents joining the riot is above or equal to its own treshold, the agent joins the riot; otherwise, an agent doesn't.\n",
    "\n",
    "Despite its simplicity, this model yields results that are often unexpected to those not familiar with it.\n",
    "\n",
    "## How to use and modify the code\n",
    "\n",
    "These excercises are designed around a Mesa template that is given to you to reuse. You are not asked to perform any complex object programming, but instead we ask for understanding of the core features of the Mesa pyhton package. You will mostly have to modifly the existing template and code the ``Model`` and ``Agent``behavior using standard python code.\n",
    "\n",
    "**Therefore, in this excercise, you are asked to fill your code where the comments state:**\n",
    "\n",
    "``#[Your code here]``\n",
    "\n",
    "**Please don't change the already given values in the examples ad\n",
    "\n",
    "**IMPORTANT!** \n",
    "- The code output should print the values that you use for discussion in the text of the answer, otherwise, we as graders cannot see the values from your simlation run in PDF.\n",
    "- Upon submitting the PDF notebook, please use the example simulation values already given in the questions. Of course, it is natural that you experiment with different code and simulation values before submission.\n",
    "\n",
    "Let’s get started."
   ]
  },
  {
   "cell_type": "markdown",
   "id": "e0b465f9",
   "metadata": {},
   "source": [
    "# 1. Create the Basic Agent/Model"
   ]
  },
  {
   "cell_type": "markdown",
   "id": "07ec3e99",
   "metadata": {},
   "source": [
    "## Setting up the model\n",
    "\n",
    "To begin writing the model code, we start with two core classes: one for\n",
    "the overall model, the other for the agents. The model class holds the\n",
    "model-level attributes, manages the agents, and generally handles the\n",
    "global level of our model. Each instantiation of the model class will be\n",
    "a specific model run. Each model will contain multiple agents, all of\n",
    "which are instantiations of the agent class. Both the model and agent\n",
    "classes are child classes of Mesa’s generic ``Model`` and ``Agent``\n",
    "classes.\n",
    "\n",
    "Now, let’s use a more advanced one: ``SimultaneousActivation``, which simulates the simultaneous activation of all the agents. This scheduler requires that each agent have two methods: ``step`` and ``advance``. step() activates the agent and stages any necessary changes, but does not apply them yet. advance() then applies the changes.\n",
    "\n",
    "### At the location ``# 1 Initialization [Your code here]`` you have to implement:\n",
    "\n",
    "Each agent has a few parameters:\n",
    "- engagement treshold - an agent's threshold for joining a riot is defined here as the proportion of the group he would have to see join before he would do so\n",
    "- decision_reached - has the agent observed the proportion above its treshold of other agents joining the riot (boolean)\n",
    "- engaged - has the agent joined the riot (boolean)\n",
    "\n",
    "(Each agent will also have a unique identifier (i.e., a sequence position), stored in the ``unique_id`` variable. Giving each agent a unique id is a good practice when doing agent-based modeling.)\n",
    "\n",
    "### At the location ``# 2 Step agent function [Your code here]`` you have to implement:\n",
    "\n",
    "- if the agent is `engaged` in a riot then no behavior is needed, agent is already rioting\n",
    "\n",
    "### At the location ``# 3 Proportion of these other agents joining the riot [Your code here]`` you have to implement:\n",
    "\n",
    "- get a list of all scheduled agents\n",
    "- calculate the proportion of these other agents joining the riot\n",
    "\n",
    "### At the location ``# 4 Binary decision [Your code here]`` you have to implement:\n",
    "\n",
    "- if the proportion of other agents joining the riot are above agent's treshold\n",
    "- set this agent to have observed the proportion above its treshold of other agents joining the riot\n",
    "\n",
    "### At the location ``# 5 Advance agent function [No coding necessary]``:\n",
    "\n",
    "- if the agent is `engaged` in a riot then no simultaneous behavior is needed, agent is already rioting\n",
    "- count up by 1 the number of rioting agents in the model\n",
    " \n",
    "### At the location ``# 6 Engage decided agents simultaneously [No coding necessary]``:\n",
    "\n",
    "- if the agent has already have observed the proportion above its treshold of other agents joining the riot\n",
    "- set the agent as `engaged` in the riot\n",
    "\n",
    "The beginning of both classes looks like this:"
   ]
  },
  {
   "cell_type": "code",
   "execution_count": 1,
   "id": "9d7435a2",
   "metadata": {},
   "outputs": [],
   "source": [
    "#!pip install mesa"
   ]
  },
  {
   "cell_type": "code",
   "execution_count": 2,
   "id": "6b163960",
   "metadata": {},
   "outputs": [],
   "source": [
    "from mesa import Model, Agent\n",
    "from mesa.time import SimultaneousActivation\n",
    "from mesa import Model\n",
    "from mesa.time import SimultaneousActivation\n",
    "from mesa.space import MultiGrid\n",
    "from mesa.datacollection import DataCollector\n",
    "import numpy as np"
   ]
  },
  {
   "cell_type": "code",
   "execution_count": 3,
   "id": "bcb39711",
   "metadata": {},
   "outputs": [],
   "source": [
    "class GranovetterAgentBasic(Agent):\n",
    "    \n",
    "    def __init__(self, unique_id, engagement_threshold, model):\n",
    "        '''\n",
    "         Create a new Granovetter agent.\n",
    "\n",
    "         Args:\n",
    "            unique_id: Unique identifier for the agent\n",
    "            engagement_treshold: An agent's threshold for joining a riot\n",
    "        '''\n",
    "        \n",
    "        super().__init__(unique_id, model)\n",
    "        \n",
    "        # 1 Initialization [Your code here]\n",
    "        self.engagement_threshold = engagement_threshold\n",
    "        self.decision_reached = False\n",
    "        self.engaged = False\n",
    "    \n",
    "    # agent step: 'rules' behavior when activated\n",
    "    def step(self):\n",
    "        '''\n",
    "        Run one step of the agent.\n",
    "        '''\n",
    "        # 2 Step agent function [Your code here]\n",
    "        if self.engaged:\n",
    "            return\n",
    "        \n",
    "        # 3 Proportion of these other agents joining the riot [Your code here]\n",
    "        all_agents = self.model.schedule.agents\n",
    "        num_rioting_agents = sum(1 for agent in all_agents if agent.engaged)\n",
    "        proportion_rioting = num_rioting_agents / len(all_agents)\n",
    "        \n",
    "        # 4 Binary decision [Your code here]\n",
    "        if proportion_rioting >= self.engagement_threshold:\n",
    "            self.decision_reached = True\n",
    "    # agent advance: 'simultaneous' behavior when activated\n",
    "    def advance(self):\n",
    "        \n",
    "        # 5 Advance agent function\n",
    "        if self.engaged == True:\n",
    "            self.model.engaged += 1\n",
    "            return\n",
    "        # 6 Engage decided agents simultaneously\n",
    "        elif self.decision_reached == True:\n",
    "            self.model.engaged += 1\n",
    "            self.engaged = True\n"
   ]
  },
  {
   "cell_type": "markdown",
   "id": "e04e3e46",
   "metadata": {},
   "source": [
    "## Adding the scheduler\n",
    "\n",
    "Time in most agent-based models moves in steps, sometimes also called\n",
    "**ticks**. At each step of the model, one or more of the agents –\n",
    "usually all of them – are activated and take their own step, changing\n",
    "internally and/or interacting with one another or the environment.\n",
    "\n",
    "The **scheduler** is a special model component which controls the order\n",
    "in which agents are activated. For example, all the agents may activate\n",
    "in the same order every step; their order might be shuffled; we may try\n",
    "to simulate all the agents acting at the same time; and more. Mesa\n",
    "offers a few different built-in scheduler classes, with a common\n",
    "interface. That makes it easy to change the activation regime a given\n",
    "model uses, and see whether it changes the model behavior. This may not\n",
    "seem important, but scheduling patterns can have an impact on your\n",
    "results.\n",
    "\n",
    "Now, let’s use a more advanced one: ``SimultaneousActivation``, which simulates the simultaneous activation of all the agents. This scheduler requires that each agent have two methods: ``step`` and ``advance``. step() activates the agent and stages any necessary changes, but does not apply them yet. advance() then applies the changes.\n",
    "\n",
    "With that in mind, the model code with the scheduler added looks like\n",
    "this:"
   ]
  },
  {
   "cell_type": "markdown",
   "id": "61dc25a4",
   "metadata": {},
   "source": [
    "### At the location ``# 1 Initialization [Your code here]`` you have to implement:\n",
    "\n",
    "There are a number of model-level parameters. When a new model is started, we want it to populate itself\n",
    "with the given number of agents.\n",
    "\n",
    "- N - number of agents the model contains\n",
    "- mu - central tendency of the tresholds distribution\n",
    "- sigma - standard deviations of the tresholds distribution\n",
    "- set the model's `engaged` agents counter to zero at the start\n",
    "- set the `running` state variable to True\n",
    "- Use ``SimultaneousActivation`` scheduler\n",
    "\n",
    "### At the location ``# 2 Create agents [Your code here]`` you have to implement:\n",
    "\n",
    "- populate the model with the given number of agents in a loop\n",
    "- assign engagement rates based on normal distribution (make all negative rate values clip to zero) - **hint:** you can use already given `self.random.gauss()` method (remember that Mesa already gives us the `random` package through the `self.random` parameter)\n",
    "- add created agents to the scheduler\n",
    "\n",
    "When a new model is started, we want it to populate itself with the defined number of agents with engagement tresholds distributed normally around some central tendency with a given standard deviation."
   ]
  },
  {
   "cell_type": "code",
   "execution_count": 4,
   "id": "5c550f36",
   "metadata": {},
   "outputs": [],
   "source": [
    "class GranovetterModelBasic(Model):\n",
    "\n",
    "    def __init__(self, N, mu, sigma):\n",
    "        '''\n",
    "        Create a new Granovetter model.\n",
    "\n",
    "         Args:\n",
    "            N: how many agents the model contains\n",
    "            mu: central tendency of the tresholds distribution\n",
    "            sigma: standard deviations of the tresholds distribution\n",
    "        '''\n",
    "        \n",
    "        super().__init__()\n",
    "        \n",
    "        # 1 Initialization [Your code here]\n",
    "        self.num_agents = N\n",
    "        self.mu = mu\n",
    "        self.sigma = sigma\n",
    "        self.engaged = 0\n",
    "        self.running = True\n",
    "        # Using SimultaneousActivation scheduler\n",
    "        self.schedule = SimultaneousActivation(self)\n",
    "\n",
    "        # 2 Create agents [Your code here]\n",
    "        for i in range(self.num_agents):\n",
    "            # Generatiing engagement thresholds from normal distribution\n",
    "            engagement_threshold = max(0, np.random.normal(self.mu, self.sigma))\n",
    "            agent = GranovetterAgentBasic(i, engagement_threshold, self)\n",
    "            self.schedule.add(agent)\n",
    "    def step(self):\n",
    "        '''\n",
    "        Run one step of the model. If All agents are happy, halt the model.\n",
    "        '''\n",
    "        \n",
    "        # 3 Step model function\n",
    "        \n",
    "        # Reset counter of engaged agents each model step\n",
    "        self.engaged = 0\n",
    "        self.schedule.step()\n",
    "        \n",
    "        # 4 Stop the model if all agents are engaged\n",
    "        if self.engaged == self.schedule.get_agent_count():\n",
    "            self.running = False"
   ]
  },
  {
   "cell_type": "markdown",
   "id": "c214bb5b",
   "metadata": {},
   "source": [
    "# 2. Run the Agent/Model Basic"
   ]
  },
  {
   "cell_type": "markdown",
   "id": "ff1ff063",
   "metadata": {},
   "source": [
    "### Running the model\n",
    "\n",
    "At this point, we have a model which runs. \n",
    "You can see for yourself with a few easy lines. If you’ve been working in an jupyter notebook session, you can create a model object directly. \n",
    "\n",
    "With that last piece in hand, it’s time for the first rudimentary run of the model.\n",
    "\n",
    "Now let’s create a model with 100 agents, and run it for 100 steps. Set the normal distribution of agent's engagement treshold to proposal. ``mu = 0.25`` and ``sigma = 0.1``."
   ]
  },
  {
   "cell_type": "markdown",
   "id": "1cd7303e",
   "metadata": {},
   "source": [
    "### At the location ``# < Add model parameters [Your code here]`` you have to implement:\n",
    "\n",
    "- specify all model-level parameters of its __init__ function\n",
    "- number of agents is given already as 100\n",
    "- specify: mu and sigma"
   ]
  },
  {
   "cell_type": "code",
   "execution_count": 5,
   "id": "ff72a10c",
   "metadata": {
    "scrolled": true
   },
   "outputs": [
    {
     "name": "stdout",
     "output_type": "stream",
     "text": [
      "The Schelling Model ran for 100 steps\n"
     ]
    }
   ],
   "source": [
    "mu = 0.25\n",
    "sigma = 0.1\n",
    "\n",
    "model = GranovetterModelBasic(100, mu, sigma)\n",
    "\n",
    "\n",
    "while model.running and model.schedule.steps < 100:\n",
    "    model.step()\n",
    "                            \n",
    "print('The Schelling Model ran for {} steps'.format(model.schedule.steps))"
   ]
  },
  {
   "cell_type": "markdown",
   "id": "2b5833d1",
   "metadata": {},
   "source": [
    "## Question 1\n",
    "\n",
    "It is possible to give a mathematically exact transformation from a frequency distribution of thresholds to an equilibrium value outcome.\n",
    "\n",
    "Run your Granovetter model till it converges (e.g., ``mu = 0.25``, ``sigma = 0.1`` and 100 steps should be enough) then observe the percentage of engaged agents ``r``. Now, sort the tresholds of all active agents and then sort the tresholds of all inactive agents. Calculate and verify the following two aspects of the equilibrium value outcome: \n",
    "\n",
    "1.1 Verify that F(r) is correct - proportion of the population having threshold less than or equal to the equilibrium value.\n",
    "\n",
    "1.2 Verify that ``r`` is correct - proportion of the population who have joined the riot.\n",
    "\n",
    "Put your code for answers 1.1 and 1.2 in the box below."
   ]
  },
  {
   "cell_type": "code",
   "execution_count": 6,
   "id": "d4f1dec2",
   "metadata": {},
   "outputs": [
    {
     "name": "stdout",
     "output_type": "stream",
     "text": [
      "F(r) (proportion of population with threshold less than or equal to equilibrium value): 0.01\n",
      "r (proportion of population who have joined the riot): 0.0\n"
     ]
    }
   ],
   "source": [
    "# Answer 1.1 and 1.2 [Your code here]\n",
    "\n",
    "# Get all agents and sort them by their engagement thresholds\n",
    "all_agents = model.schedule.agents\n",
    "all_thresholds = [agent.engagement_threshold for agent in all_agents]\n",
    "sorted_thresholds = sorted(all_thresholds)\n",
    "\n",
    "# Calculate the proportion of the population having threshold less than or equal to the equilibrium value (F(r))\n",
    "equilibrium_threshold = sorted_thresholds[int(model.engaged)]\n",
    "F_r = sum(1 for threshold in sorted_thresholds if threshold <= equilibrium_threshold) / len(sorted_thresholds)\n",
    "\n",
    "# Calculate the proportion of the population who have joined the riot (r)\n",
    "r = model.engaged / len(all_agents)\n",
    "\n",
    "print(\"F(r) (proportion of population with threshold less than or equal to equilibrium value):\", F_r)\n",
    "print(\"r (proportion of population who have joined the riot):\", r)"
   ]
  },
  {
   "cell_type": "markdown",
   "id": "51962906",
   "metadata": {},
   "source": [
    "1.3. Do you find that ``r == F(r)``?\n",
    "\n",
    "1.4. How many agents get activated during the first step? Explain why it works like this?\n",
    "\n",
    "1.5. If we changed mu to be slightly higher, how would it affect the first step of the simulation?\n",
    "\n",
    "Answer in text below"
   ]
  },
  {
   "cell_type": "markdown",
   "id": "caf380fb",
   "metadata": {},
   "source": [
    "## Answer 1.3 and 1.4 and 1.5\n",
    "\n",
    "1.3. In theory, it's not necessary that r is equal to F(r). However, in many cases, especially in equilibrium situations, r can be close to F(r). This happens because as the proportion of agents with thresholds below the equilibrium value increases, more agents become engaged in the riot, leading to a higher r. Therefore, it's possible that r approaches F(r) as the model reaches equilibrium, but it's not guaranteed to be equal in all cases.\n",
    "\n",
    "1.4. During the first step of the simulation, typically all agents are activated. This is because each agent evaluates the proportion of other agents joining the riot, and since no agents have joined yet, this proportion is zero for all agents. Therefore, each agent compares this proportion to its own threshold, and if it's greater than or equal to its threshold, it decides to join the riot. Since the proportion is zero for all agents in the first step, all agents will decide to join the riot if their threshold is zero or below.\n",
    "\n",
    "1.5. If we changed mu to be slightly higher, it would affect the first step of the simulation by potentially reducing the number of agents activated. This happens because a higher mu shifts the distribution of engagement thresholds to the right, meaning fewer agents have thresholds close to zero. Therefore, fewer agents would perceive the proportion of others joining the riot as greater than their threshold in the first step, leading to fewer agents being activated initially."
   ]
  },
  {
   "cell_type": "markdown",
   "id": "b182ac33",
   "metadata": {},
   "source": [
    "# 5. Collect data to Analyze the Agent/Model"
   ]
  },
  {
   "cell_type": "markdown",
   "id": "5e9a7d5a",
   "metadata": {},
   "source": [
    "### Collecting Data\n",
    "\n",
    "Since one of the main goals of agent-based modeling is generating data\n",
    "for analysis, Mesa provides a class which can handle data collection and\n",
    "storage for us and make it easier to analyze.\n",
    "\n",
    "The data collector stores three categories of data: model-level\n",
    "variables, agent-level variables, and tables (which are a catch-all for\n",
    "everything else). Model- and agent-level variables are added to the data\n",
    "collector along with a function for collecting them. Model-level\n",
    "collection functions take a model object as an input, while agent-level\n",
    "collection functions take an agent object as an input. Both then return\n",
    "a value computed from the model or each agent at their current state.\n",
    "When the data collector’s ``collect`` method is called, with a model\n",
    "object as its argument, it applies each model-level collection function\n",
    "to the model, and stores the results in a dictionary, associating the\n",
    "current value with the current step of the model. Similarly, the method\n",
    "applies each agent-level collection function to each agent currently in\n",
    "the schedule, associating the resulting value with the step of the\n",
    "model, and the agent’s ``unique_id``.\n",
    "\n",
    "Let’s add a DataCollector to the model, and collect two variables. At\n",
    "the agent level, we want to collect every agent’s engaged state at every step.\n",
    "At the model level, let’s measure the proportion of engaged agents at every step."
   ]
  },
  {
   "cell_type": "markdown",
   "id": "05d03993",
   "metadata": {},
   "source": [
    "### At the location ``# Analysis code for calculating proportion of engaged agents [Your code here]`` you have to implement:\n",
    "\n",
    "- calculate proportion of engaged agents over all agents\n",
    "\n",
    "### Agent code should be the same (copy your code from above)\n",
    "\n",
    "### Model code has a ``DataCollector`` step\n",
    "\n",
    "- note the use of ``DataCollector`` to collect the following model-level data:\n",
    "- model's engagement ratio\n",
    "- agent's ``engaged`` stats\n",
    "- ``collect`` data every model's ``step``"
   ]
  },
  {
   "cell_type": "code",
   "execution_count": 7,
   "id": "5ae5f756",
   "metadata": {},
   "outputs": [],
   "source": [
    "def get_engagement_ratio(model):\n",
    "    '''\n",
    "    Find the % of agents that are rioting.\n",
    "    '''\n",
    "    engaged_agents = [agent for agent in model.schedule.agents if agent.engaged]\n",
    "    engagement_rate = len(engaged_agents) / np.array((model.schedule.agents)).shape[0]\n",
    "    return engagement_rate"
   ]
  },
  {
   "cell_type": "code",
   "execution_count": 8,
   "id": "30cc716d",
   "metadata": {},
   "outputs": [],
   "source": [
    "from mesa.datacollection import DataCollector\n",
    "from mesa.time import SimultaneousActivation\n",
    "\n",
    "class GranovetterAgentAnalysis(Agent):\n",
    "    \n",
    "    def __init__(self, unique_id, engagement_threshold, model):\n",
    "        '''\n",
    "         Create a new Granovetter agent.\n",
    "\n",
    "         Args:\n",
    "            unique_id: Unique identifier for the agent.\n",
    "            engagement_treshold: Treshold\n",
    "        '''\n",
    "        \n",
    "        super().__init__(unique_id, model)\n",
    "        \n",
    "        # 1 Initialization [Your code here]\n",
    "        self.engagement_threshold = engagement_threshold\n",
    "        self.decision_reached = False\n",
    "        self.engaged = False\n",
    "\n",
    "    # agent step: 'rules' action when activated\n",
    "    def step(self):\n",
    "        '''\n",
    "        Run one step of the agent. Move if unhappy, stay otherwise\n",
    "        '''\n",
    "        # 2 Step agent function [Your code here]\n",
    "        if self.engaged:\n",
    "            return\n",
    "        \n",
    "        # 3 Proportion of these other agents joining the riot [Your code here]\n",
    "        all_agents = self.model.schedule.agents\n",
    "        num_rioting_agents = sum(1 for agent in all_agents if agent.engaged)\n",
    "        proportion_rioting = num_rioting_agents / len(all_agents)\n",
    "        \n",
    "        # 4 Binary decision [Your code here]\n",
    "        if proportion_rioting >= self.engagement_threshold:\n",
    "            self.decision_reached = True\n",
    "            \n",
    "    # agent advance: 'simultaneous' behavior when activated\n",
    "    def advance(self):\n",
    "        \n",
    "        # 5 Advance agent function\n",
    "        if self.engaged == True:\n",
    "            self.model.engaged += 1\n",
    "            return\n",
    "        # 6 Engage decided agents simultaneously\n",
    "        elif self.decision_reached == True:\n",
    "            self.model.engaged += 1\n",
    "            self.engaged = True\n"
   ]
  },
  {
   "cell_type": "code",
   "execution_count": 9,
   "id": "86898bc3",
   "metadata": {},
   "outputs": [],
   "source": [
    "class GranovetterModelAnalysis(Model):\n",
    "\n",
    "    def __init__(self, N, mu, sigma):\n",
    "        '''\n",
    "        Create a new Granovetter model.\n",
    "\n",
    "         Args:\n",
    "            N: how many agents the model contains\n",
    "            mu: central tendency of the tresholds distribution\n",
    "            sigma: standard deviations of the tresholds distribution\n",
    "        '''\n",
    "        \n",
    "        super().__init__()\n",
    "        \n",
    "        # 1 Initialization [Your code here]\n",
    "        self.schedule = SimultaneousActivation(self)\n",
    "        self.datacollector = DataCollector(    # < Note that we have both an agent and model data collector\n",
    "            model_reporters={\"engagement_ratio\": get_engagement_ratio}, agent_reporters={\"engaged\": \"engaged\"}\n",
    "        )\n",
    "        \n",
    "        self.running = True\n",
    "        \n",
    "        # 2 Create agents [Your code here]\n",
    "        for i in range(N):\n",
    "            engagement_threshold = max(0, np.random.normal(mu, sigma))\n",
    "            agent = GranovetterAgentAnalysis(i, engagement_threshold, self)\n",
    "            self.schedule.add(agent)\n",
    "            \n",
    "    def step(self):\n",
    "        '''\n",
    "        Run one step of the model. If All agents are happy, halt the model.\n",
    "        '''\n",
    "        \n",
    "        # 3 Step model function\n",
    "        \n",
    "        # Reset counter of engaged agents each model step\n",
    "        self.engaged = 0\n",
    "        self.datacollector.collect(self)\n",
    "        self.schedule.step()\n",
    "\n",
    "        # 4 Stop the model if all agents are engaged\n",
    "        if self.engaged == self.schedule.get_agent_count():\n",
    "            self.running = False"
   ]
  },
  {
   "cell_type": "markdown",
   "id": "ae59abfb",
   "metadata": {},
   "source": [
    "### Running the model\n",
    "\n",
    "We run the model just as we did above. Now is when an interactive\n",
    "session, especially via a Notebook, comes in handy: the DataCollector\n",
    "can export the data it’s collected as a pandas DataFrame, for easy\n",
    "interactive analysis.\n",
    "\n",
    "Now we instantiate a model instance: 100 agents, with normal distribution of agent's engagement treshold to ``mu = 0.25`` and ``sigma = 0.122``. Run the model for 100 steps.\n",
    "\n",
    "We want to run the model until all the agents are rioting. However, there's no guarentee that a given model instantiation will *ever* settle down. So let's run it for either 100 steps or until it stops on its own, whichever comes first:"
   ]
  },
  {
   "cell_type": "markdown",
   "id": "1fd1e32e",
   "metadata": {},
   "source": [
    "### At the location ``# < Add model parameters [Your code here]`` you have to implement:\n",
    "\n",
    "- specify all model-level parameters of its __init__ function\n",
    "- number of agents is given already as 100\n",
    "- specify: mu and sigma"
   ]
  },
  {
   "cell_type": "code",
   "execution_count": 10,
   "id": "df714e58",
   "metadata": {},
   "outputs": [
    {
     "name": "stdout",
     "output_type": "stream",
     "text": [
      "The Schelling Model ran for 100 steps\n"
     ]
    }
   ],
   "source": [
    "mu = 0.25\n",
    "sigma = 0.122\n",
    "\n",
    "model = GranovetterModelAnalysis(100, mu, sigma)\n",
    "\n",
    "while model.running and model.schedule.steps < 100:\n",
    "    model.step()\n",
    "                            \n",
    "print('The Schelling Model ran for {} steps'.format(model.schedule.steps))\n",
    "\n",
    "# Collect data using the data collector\n",
    "model.datacollector.collect(model)\n"
   ]
  },
  {
   "cell_type": "markdown",
   "id": "a9e9791e",
   "metadata": {},
   "source": [
    "# 6. Run the Agent/Model Analysis"
   ]
  },
  {
   "cell_type": "markdown",
   "id": "aa6c025e",
   "metadata": {},
   "source": [
    "Now we can get the agent-engagement data:"
   ]
  },
  {
   "cell_type": "markdown",
   "id": "ccca2460",
   "metadata": {},
   "source": [
    "**It is always a good practice to validate (debug) your model with visualizing agents behavior.**\n",
    "\n",
    "### At the location ``Create a plot for the engagement state of a single agent over the model steps [Your code here]`` you have to implement:\n",
    "\n",
    "- filter the data to select only one agent - using Pandas .xs method\n",
    "- plot the ``engaged`` state of that agent data you have collected"
   ]
  },
  {
   "cell_type": "code",
   "execution_count": 11,
   "id": "7404dedc",
   "metadata": {},
   "outputs": [
    {
     "data": {
      "text/html": [
       "<div>\n",
       "<style scoped>\n",
       "    .dataframe tbody tr th:only-of-type {\n",
       "        vertical-align: middle;\n",
       "    }\n",
       "\n",
       "    .dataframe tbody tr th {\n",
       "        vertical-align: top;\n",
       "    }\n",
       "\n",
       "    .dataframe thead th {\n",
       "        text-align: right;\n",
       "    }\n",
       "</style>\n",
       "<table border=\"1\" class=\"dataframe\">\n",
       "  <thead>\n",
       "    <tr style=\"text-align: right;\">\n",
       "      <th></th>\n",
       "      <th></th>\n",
       "      <th>engaged</th>\n",
       "    </tr>\n",
       "    <tr>\n",
       "      <th>Step</th>\n",
       "      <th>AgentID</th>\n",
       "      <th></th>\n",
       "    </tr>\n",
       "  </thead>\n",
       "  <tbody>\n",
       "    <tr>\n",
       "      <th rowspan=\"5\" valign=\"top\">0</th>\n",
       "      <th>0</th>\n",
       "      <td>False</td>\n",
       "    </tr>\n",
       "    <tr>\n",
       "      <th>1</th>\n",
       "      <td>False</td>\n",
       "    </tr>\n",
       "    <tr>\n",
       "      <th>2</th>\n",
       "      <td>False</td>\n",
       "    </tr>\n",
       "    <tr>\n",
       "      <th>3</th>\n",
       "      <td>False</td>\n",
       "    </tr>\n",
       "    <tr>\n",
       "      <th>4</th>\n",
       "      <td>False</td>\n",
       "    </tr>\n",
       "  </tbody>\n",
       "</table>\n",
       "</div>"
      ],
      "text/plain": [
       "              engaged\n",
       "Step AgentID         \n",
       "0    0          False\n",
       "     1          False\n",
       "     2          False\n",
       "     3          False\n",
       "     4          False"
      ]
     },
     "execution_count": 11,
     "metadata": {},
     "output_type": "execute_result"
    }
   ],
   "source": [
    "import pandas as pd\n",
    "\n",
    "agent_out = model.datacollector.get_agent_vars_dataframe()\n",
    "agent_out.head()"
   ]
  },
  {
   "cell_type": "code",
   "execution_count": 12,
   "id": "35c0d360",
   "metadata": {
    "scrolled": true
   },
   "outputs": [
    {
     "data": {
      "image/png": "[encoded data removed]",
      "text/plain": [
       "<Figure size 640x480 with 1 Axes>"
      ]
     },
     "metadata": {},
     "output_type": "display_data"
    }
   ],
   "source": [
    "# Create a plot for the engagement state of a single agent over the model steps [Your code here]\n",
    "import matplotlib.pyplot as plt\n",
    "\n",
    "agent_0_out = agent_out.xs(0, level='AgentID')\n",
    "agent_0_out = agent_0_out['engaged'].astype(int)\n",
    "\n",
    "agent_0_out.plot(label='Engagement State')\n",
    "plt.legend()\n",
    "plt.title('Engagement State of a Single Agent')\n",
    "plt.xlabel('Step')\n",
    "plt.ylabel('Engagement')\n",
    "plt.show()"
   ]
  },
  {
   "cell_type": "markdown",
   "id": "a5b15cb6",
   "metadata": {},
   "source": [
    "Similarly, we can get the model-engagement ratio data.\n",
    "\n",
    "You’ll see that the DataFrame’s index is pairings of model step and agent ID. You can analyze it the way you would any other DataFrame."
   ]
  },
  {
   "cell_type": "markdown",
   "id": "ada4d90d",
   "metadata": {},
   "source": [
    "### At the location ``# Create a plot for the proportion of all engaged agents over the model steps [Your code here]`` you have to implement:\n",
    "\n",
    "- plot the ``engagement_ratio`` data you have collected"
   ]
  },
  {
   "cell_type": "code",
   "execution_count": 13,
   "id": "95567016",
   "metadata": {},
   "outputs": [
    {
     "data": {
      "text/html": [
       "<div>\n",
       "<style scoped>\n",
       "    .dataframe tbody tr th:only-of-type {\n",
       "        vertical-align: middle;\n",
       "    }\n",
       "\n",
       "    .dataframe tbody tr th {\n",
       "        vertical-align: top;\n",
       "    }\n",
       "\n",
       "    .dataframe thead th {\n",
       "        text-align: right;\n",
       "    }\n",
       "</style>\n",
       "<table border=\"1\" class=\"dataframe\">\n",
       "  <thead>\n",
       "    <tr style=\"text-align: right;\">\n",
       "      <th></th>\n",
       "      <th>engagement_ratio</th>\n",
       "    </tr>\n",
       "  </thead>\n",
       "  <tbody>\n",
       "    <tr>\n",
       "      <th>0</th>\n",
       "      <td>0.00</td>\n",
       "    </tr>\n",
       "    <tr>\n",
       "      <th>1</th>\n",
       "      <td>0.04</td>\n",
       "    </tr>\n",
       "    <tr>\n",
       "      <th>2</th>\n",
       "      <td>0.06</td>\n",
       "    </tr>\n",
       "    <tr>\n",
       "      <th>3</th>\n",
       "      <td>0.07</td>\n",
       "    </tr>\n",
       "    <tr>\n",
       "      <th>4</th>\n",
       "      <td>0.07</td>\n",
       "    </tr>\n",
       "  </tbody>\n",
       "</table>\n",
       "</div>"
      ],
      "text/plain": [
       "   engagement_ratio\n",
       "0              0.00\n",
       "1              0.04\n",
       "2              0.06\n",
       "3              0.07\n",
       "4              0.07"
      ]
     },
     "execution_count": 13,
     "metadata": {},
     "output_type": "execute_result"
    }
   ],
   "source": [
    "model_out = model.datacollector.get_model_vars_dataframe()\n",
    "model_out.head()"
   ]
  },
  {
   "cell_type": "code",
   "execution_count": 14,
   "id": "a92aa0ed",
   "metadata": {},
   "outputs": [
    {
     "data": {
      "image/png": "[encoded data removed]",
      "text/plain": [
       "<Figure size 640x480 with 1 Axes>"
      ]
     },
     "metadata": {},
     "output_type": "display_data"
    }
   ],
   "source": [
    "# Create a plot for the proportion of all engaged agents over the model steps [Your code here]\n",
    "model_out.plot(label='Engagement Ratio')\n",
    "plt.legend()\n",
    "plt.title('Proportion of All Engaged Agents')\n",
    "plt.xlabel('Step')\n",
    "plt.ylabel('Engagement')\n",
    "plt.show()"
   ]
  },
  {
   "cell_type": "markdown",
   "id": "0e1fcc7a",
   "metadata": {},
   "source": [
    "## Question 2\n",
    "\n",
    "2.1 Plot 2 gaussian distributions (they don't need to be related to the rest of this notebook) with different sigma levels but same mean.\n",
    "\n",
    "In previous steps you have analysed the Granovetter's model analysis for a low sigma (standard deviation) of engagement tresholds (e.g., ``sigma = 0.1``).\n",
    "\n",
    "2.2 Now re-run the analysis for a high sigma value (e.g., ``sigma = 0.2``) and once again plot the proportion of engaged agents over the model steps. Now observe the difference in proportion of engaged agents over all agents.\n",
    "\n",
    "Put your code for the answer 2.1 and 2.2 in the box below."
   ]
  },
  {
   "cell_type": "code",
   "execution_count": 15,
   "id": "4419721e",
   "metadata": {
    "scrolled": true
   },
   "outputs": [
    {
     "data": {
      "image/png": "[encoded data removed]",
      "text/plain": [
       "<Figure size 640x480 with 1 Axes>"
      ]
     },
     "metadata": {},
     "output_type": "display_data"
    },
    {
     "data": {
      "image/png": "[encoded data removed]",
      "text/plain": [
       "<Figure size 640x480 with 1 Axes>"
      ]
     },
     "metadata": {},
     "output_type": "display_data"
    }
   ],
   "source": [
    "# Answer 2.1 [Your code here]\n",
    "import scipy.stats as stats\n",
    "\n",
    "mu = 0\n",
    "scale = 2\n",
    "sigma_1 = 1\n",
    "sigma_2 = 2\n",
    "\n",
    "x = np.arange(mu - 2 * scale, mu + 2 * scale, 0.001)\n",
    "y = stats.norm.pdf(x, mu, sigma_1)\n",
    "y = y / np.max(y) # Normalizes the PDF of f(x, mu, sigma), to make it comparable\n",
    "\n",
    "plt.plot(x, y, label=f\"mu = {mu}, sigma = {sigma_1}\")\n",
    "plt.legend()\n",
    "plt.title('PDF of the Gaussian Distribution')\n",
    "plt.xlabel('Riot treshhold')\n",
    "plt.ylabel('X')\n",
    "plt.show()\n",
    "\n",
    "x = np.arange(mu - 2 * scale, mu + 2 * scale, 0.001)\n",
    "y = stats.norm.pdf(x, mu, sigma_2)\n",
    "y = y / np.max(y) # Normalizes the PDF of f(x, mu, sigma), to make it comparable\n",
    "\n",
    "plt.plot(x, y, label=f\"mu = {mu}, sigma = {sigma_2}\")\n",
    "plt.legend()\n",
    "plt.title('PDF of the Gaussian Distribution')\n",
    "plt.xlabel('X')\n",
    "plt.ylabel('Probability Density')\n",
    "plt.show()"
   ]
  },
  {
   "cell_type": "code",
   "execution_count": 16,
   "id": "cb7265ac",
   "metadata": {},
   "outputs": [
    {
     "name": "stdout",
     "output_type": "stream",
     "text": [
      "The Schelling Model ran for 6 steps\n"
     ]
    },
    {
     "data": {
      "image/png": "[encoded data removed]",
      "text/plain": [
       "<Figure size 640x480 with 1 Axes>"
      ]
     },
     "metadata": {},
     "output_type": "display_data"
    }
   ],
   "source": [
    "# Answer 2.2 [Your code here]\n",
    "\n",
    "mu = 0.25\n",
    "sigma = 0.2\n",
    "\n",
    "model = GranovetterModelAnalysis(100, mu, sigma)\n",
    "\n",
    "while model.running and model.schedule.steps < 100:\n",
    "    model.step()\n",
    "                            \n",
    "print('The Schelling Model ran for {} steps'.format(model.schedule.steps))\n",
    "\n",
    "model.datacollector.collect(model)\n",
    "model_out = model.datacollector.get_model_vars_dataframe()\n",
    "\n",
    "model_out.plot(label='Engagement Ratio')\n",
    "plt.legend()\n",
    "plt.title('Proportion of All Engaged Agents')\n",
    "plt.xlabel('Step')\n",
    "plt.ylabel('Engagement')\n",
    "plt.show()"
   ]
  },
  {
   "cell_type": "markdown",
   "id": "a87f8390",
   "metadata": {},
   "source": [
    "2.3 Qualitatively describe what is this difference between these two outcomes and why?\n",
    "\n",
    "2.4 Describe how this changing of sigma relates to precursors(early adopters) and laggards(late adopters).\n",
    "\n",
    "Answer in text below"
   ]
  },
  {
   "cell_type": "markdown",
   "id": "2f97f68a",
   "metadata": {},
   "source": [
    "## Answer 2.3 and 2.4\n",
    "\n",
    "2.3 \n",
    "\n",
    "The difference is that with a higher sigma, an engagement ratio of 1 is achievable, i.e., at some point, all agents riot. Furthermore, with a sigma of 0.2, the result of all agents rioting is achieved rather quickly, after approximately less than 10 steps.\n",
    "\n",
    "2.4 \n",
    "\n",
    "With a standard deviation of 0.2 and a mean of 0.25, more agents have significantly small thresholds (~0.05). A low threshold for rioting implies joining the riot way earlier, the consequence being that more agents join the riot in the early stages, i.e., more early adopters exist. That, in return, enables agents with high thresholds to jump on the bandwagon rather quickly, as the surplus of early adopters quickly reaches their rioting threshold - this holds even though the highest thresholds for late adopters are significantly higher than in the earlier example with a standard deviation of 0.1. From that, we derive that the ratio of early adopters largely influences the overall engagement ratio.ers."
   ]
  },
  {
   "cell_type": "markdown",
   "id": "92a5e202",
   "metadata": {},
   "source": [
    "# 7. Create iteration Batch of the Agent/Model"
   ]
  },
  {
   "cell_type": "markdown",
   "id": "5d65cad7",
   "metadata": {},
   "source": [
    "### Batch Run\n",
    "\n",
    "Like we mentioned above, you usually won’t run a model only once, but\n",
    "multiple times, with fixed parameters to find the overall distributions\n",
    "the model generates, and with varying parameters to analyze how they\n",
    "drive the model’s outputs and behaviors. Instead of needing to write\n",
    "nested for-loops for each model, Mesa provides a ``batch_run`` function\n",
    "which automates it for you.\n",
    "\n",
    "The batch runner also requires an additional variable ``self.running``\n",
    "for the Model class. This variable enables conditional shut off of\n",
    "the model once a condition is met."
   ]
  },
  {
   "cell_type": "markdown",
   "id": "05a89bb2",
   "metadata": {},
   "source": [
    "### At the location ``# < Add model parameters [Your code here]`` you have to implement:\n",
    "\n",
    "- specify all model-level parameters of its __init__ function\n",
    "- number of agents is given already as 100\n",
    "- specify: ``mu = 0.25`` and ``sigma as [0.0, 1.0, equally spaced 11 values]``\n",
    "\n",
    "**Hint**: Instead of using python's ``range()`` method that returns integer values, you can use ``linspace()`` method from the ``numpy`` lbrary as follows:\n",
    "\n",
    "``\n",
    "import numpy as np\n",
    "np.linspace(0,1,11)\n",
    "``"
   ]
  },
  {
   "cell_type": "code",
   "execution_count": 17,
   "id": "8e4e8362",
   "metadata": {},
   "outputs": [],
   "source": [
    "import numpy as np\n",
    "\n",
    "\n",
    "sigma = np.linspace(0, 1, 11)\n",
    "params = {\"N\": 100, \"mu\": 0.25, \"sigma\": sigma} # < Add model parameters [Your code here] } "
   ]
  },
  {
   "cell_type": "markdown",
   "id": "b1e897e3",
   "metadata": {},
   "source": [
    "# 8. Run the Agent/Model Batch"
   ]
  },
  {
   "cell_type": "markdown",
   "id": "a7d14019",
   "metadata": {},
   "source": [
    "### Running the model\n",
    "\n",
    "We call ``batch_run`` with the following arguments:\n",
    "\n",
    "* ``model_cls``\n",
    "\n",
    "  The model class that is used for the batch run.\n",
    "\n",
    "* ``parameters``\n",
    "\n",
    "  A dictionary containing all the parameters of the model class and\n",
    "  desired values to use for the batch run as key-value pairs. Each\n",
    "  value can either be fixed ( e.g. ``{\"height\": 10, \"width\": 10}``)\n",
    "  or an iterable (e.g. ``{\"homophily\": range(0,100, 13)}``). ``batch_run``\n",
    "  will then generate all possible parameter combinations based on this\n",
    "  dictionary and run the model ``iterations`` times for each combination.\n",
    "\n",
    "* ``number_processes``\n",
    "\n",
    "  Number of processors used to run the sweep in parallel. Optional.\n",
    "  If not specified, defaults to use all the available processors.\n",
    "\n",
    "  Note: Multiprocessing does make debugging challenging. If your\n",
    "  parameter sweeps are resulting in unexpected errors set ``number_processes = 1``.\n",
    "  \n",
    "  Also, if your batcher is stuck and is not running for some reason, try also setting ``number_processes = 1``, since this issue might also be related to multiprocessing issues.\n",
    "\n",
    "* ``iterations``\n",
    "\n",
    "  The number of iterations to run each parameter combination for. Optional.\n",
    "  If not specified, defaults to 1.\n",
    "\n",
    "* ``data_collection_period``\n",
    "\n",
    "  The length of the period (number of steps) after which the model and\n",
    "  agent reporters collect data. Optional. If not specified, defaults to -1,\n",
    "  i.e. only at the end of each episode.\n",
    "\n",
    "* ``max_steps``\n",
    "\n",
    "  The maximum number of time steps after which the model halts. An episode\n",
    "  does either end when ``self.running`` of the model class is set to\n",
    "  ``False`` or when ``model.schedule.steps == max_steps`` is reached.\n",
    "  Optional. If not specified, defaults to 1000.\n",
    "\n",
    "* ``display_progress``\n",
    "\n",
    "  Display the batch run progress. Optional. If not specified, defaults to ``True``.\n",
    "\n",
    "In the following example, we hold the height and width fixed, and vary\n",
    "the homophily treshold of agents. We tell the batch runner to run 10 instantiations\n",
    "of the model with each number of agents, and to run each for 200 steps.\n",
    "\n",
    "At the last step of the model (i.e., `data_collection_period=-1`), the datacollector will collect and store the model-level proportion of engaged agents, as well as each agent’s engaged state, associating each with the last step."
   ]
  },
  {
   "cell_type": "code",
   "execution_count": 19,
   "id": "417ca04b",
   "metadata": {},
   "outputs": [
    {
     "data": {
      "application/vnd.jupyter.widget-view+json": {
       "model_id": "78d146e5073b4abf8f1d38823696c034",
       "version_major": 2,
       "version_minor": 0
      },
      "text/plain": [
       "  0%|          | 0/110 [00:00<?, ?it/s]"
      ]
     },
     "metadata": {},
     "output_type": "display_data"
    }
   ],
   "source": [
    "# If your batcher is stuck and is not running for some reason, try setting number_processes = 1\n",
    "\n",
    "from mesa.batchrunner import batch_run\n",
    "\n",
    "results = batch_run(\n",
    "    GranovetterModelAnalysis,\n",
    "    parameters=params,\n",
    "    iterations=10,\n",
    "    max_steps=100,\n",
    "    number_processes= 1,\n",
    "    data_collection_period=-1,\n",
    "    display_progress=True,\n",
    ")"
   ]
  },
  {
   "cell_type": "markdown",
   "id": "c3e414a4",
   "metadata": {},
   "source": [
    "# 9. Run the Batch data Analysis"
   ]
  },
  {
   "cell_type": "markdown",
   "id": "6a670538",
   "metadata": {},
   "source": [
    "### Data visualization\n",
    "\n",
    "First, we want to take a closer look at how the engagement ratio at the end of each episode changes as we increase the standard deviation (sigma) of the engagement tresholds distribution.\n",
    "For this, we group our data on the ``RunId`` identifier and get a single value per ``RunId`` using a median.\n",
    "Our results to only contain the data of engagement ratio for the entire population at the final step of each episode and then box-plot the values for the engagement ratio over the standard deviation of engagement tresholds.\n",
    "Notice there are 10 values for each sigma value since we set ``iterations=10`` when calling the batch run."
   ]
  },
  {
   "cell_type": "code",
   "execution_count": 20,
   "id": "77666a1a",
   "metadata": {},
   "outputs": [
    {
     "data": {
      "text/html": [
       "<div>\n",
       "<style scoped>\n",
       "    .dataframe tbody tr th:only-of-type {\n",
       "        vertical-align: middle;\n",
       "    }\n",
       "\n",
       "    .dataframe tbody tr th {\n",
       "        vertical-align: top;\n",
       "    }\n",
       "\n",
       "    .dataframe thead th {\n",
       "        text-align: right;\n",
       "    }\n",
       "</style>\n",
       "<table border=\"1\" class=\"dataframe\">\n",
       "  <thead>\n",
       "    <tr style=\"text-align: right;\">\n",
       "      <th></th>\n",
       "      <th>RunId</th>\n",
       "      <th>iteration</th>\n",
       "      <th>Step</th>\n",
       "      <th>N</th>\n",
       "      <th>mu</th>\n",
       "      <th>sigma</th>\n",
       "      <th>engagement_ratio</th>\n",
       "      <th>AgentID</th>\n",
       "      <th>engaged</th>\n",
       "    </tr>\n",
       "  </thead>\n",
       "  <tbody>\n",
       "    <tr>\n",
       "      <th>0</th>\n",
       "      <td>0</td>\n",
       "      <td>0</td>\n",
       "      <td>100</td>\n",
       "      <td>100</td>\n",
       "      <td>0.25</td>\n",
       "      <td>0.0</td>\n",
       "      <td>0.0</td>\n",
       "      <td>0</td>\n",
       "      <td>False</td>\n",
       "    </tr>\n",
       "    <tr>\n",
       "      <th>1</th>\n",
       "      <td>0</td>\n",
       "      <td>0</td>\n",
       "      <td>100</td>\n",
       "      <td>100</td>\n",
       "      <td>0.25</td>\n",
       "      <td>0.0</td>\n",
       "      <td>0.0</td>\n",
       "      <td>1</td>\n",
       "      <td>False</td>\n",
       "    </tr>\n",
       "    <tr>\n",
       "      <th>2</th>\n",
       "      <td>0</td>\n",
       "      <td>0</td>\n",
       "      <td>100</td>\n",
       "      <td>100</td>\n",
       "      <td>0.25</td>\n",
       "      <td>0.0</td>\n",
       "      <td>0.0</td>\n",
       "      <td>2</td>\n",
       "      <td>False</td>\n",
       "    </tr>\n",
       "    <tr>\n",
       "      <th>3</th>\n",
       "      <td>0</td>\n",
       "      <td>0</td>\n",
       "      <td>100</td>\n",
       "      <td>100</td>\n",
       "      <td>0.25</td>\n",
       "      <td>0.0</td>\n",
       "      <td>0.0</td>\n",
       "      <td>3</td>\n",
       "      <td>False</td>\n",
       "    </tr>\n",
       "    <tr>\n",
       "      <th>4</th>\n",
       "      <td>0</td>\n",
       "      <td>0</td>\n",
       "      <td>100</td>\n",
       "      <td>100</td>\n",
       "      <td>0.25</td>\n",
       "      <td>0.0</td>\n",
       "      <td>0.0</td>\n",
       "      <td>4</td>\n",
       "      <td>False</td>\n",
       "    </tr>\n",
       "  </tbody>\n",
       "</table>\n",
       "</div>"
      ],
      "text/plain": [
       "   RunId  iteration  Step    N    mu  sigma  engagement_ratio  AgentID  \\\n",
       "0      0          0   100  100  0.25    0.0               0.0        0   \n",
       "1      0          0   100  100  0.25    0.0               0.0        1   \n",
       "2      0          0   100  100  0.25    0.0               0.0        2   \n",
       "3      0          0   100  100  0.25    0.0               0.0        3   \n",
       "4      0          0   100  100  0.25    0.0               0.0        4   \n",
       "\n",
       "   engaged  \n",
       "0    False  \n",
       "1    False  \n",
       "2    False  \n",
       "3    False  \n",
       "4    False  "
      ]
     },
     "execution_count": 20,
     "metadata": {},
     "output_type": "execute_result"
    }
   ],
   "source": [
    "import pandas as pd\n",
    "\n",
    "results_df = pd.DataFrame(results)\n",
    "results_df.head()"
   ]
  },
  {
   "cell_type": "code",
   "execution_count": 21,
   "id": "80fdf609",
   "metadata": {},
   "outputs": [
    {
     "data": {
      "text/html": [
       "<div>\n",
       "<style scoped>\n",
       "    .dataframe tbody tr th:only-of-type {\n",
       "        vertical-align: middle;\n",
       "    }\n",
       "\n",
       "    .dataframe tbody tr th {\n",
       "        vertical-align: top;\n",
       "    }\n",
       "\n",
       "    .dataframe thead th {\n",
       "        text-align: right;\n",
       "    }\n",
       "</style>\n",
       "<table border=\"1\" class=\"dataframe\">\n",
       "  <thead>\n",
       "    <tr style=\"text-align: right;\">\n",
       "      <th></th>\n",
       "      <th></th>\n",
       "      <th></th>\n",
       "      <th>N</th>\n",
       "      <th>mu</th>\n",
       "      <th>sigma</th>\n",
       "      <th>engagement_ratio</th>\n",
       "      <th>AgentID</th>\n",
       "      <th>engaged</th>\n",
       "    </tr>\n",
       "    <tr>\n",
       "      <th>RunId</th>\n",
       "      <th>iteration</th>\n",
       "      <th>Step</th>\n",
       "      <th></th>\n",
       "      <th></th>\n",
       "      <th></th>\n",
       "      <th></th>\n",
       "      <th></th>\n",
       "      <th></th>\n",
       "    </tr>\n",
       "  </thead>\n",
       "  <tbody>\n",
       "    <tr>\n",
       "      <th>0</th>\n",
       "      <th>0</th>\n",
       "      <th>100</th>\n",
       "      <td>100.0</td>\n",
       "      <td>0.25</td>\n",
       "      <td>0.0</td>\n",
       "      <td>0.00</td>\n",
       "      <td>49.5</td>\n",
       "      <td>0.0</td>\n",
       "    </tr>\n",
       "    <tr>\n",
       "      <th>1</th>\n",
       "      <th>0</th>\n",
       "      <th>100</th>\n",
       "      <td>100.0</td>\n",
       "      <td>0.25</td>\n",
       "      <td>0.1</td>\n",
       "      <td>0.03</td>\n",
       "      <td>49.5</td>\n",
       "      <td>0.0</td>\n",
       "    </tr>\n",
       "    <tr>\n",
       "      <th>2</th>\n",
       "      <th>0</th>\n",
       "      <th>100</th>\n",
       "      <td>100.0</td>\n",
       "      <td>0.25</td>\n",
       "      <td>0.2</td>\n",
       "      <td>0.09</td>\n",
       "      <td>49.5</td>\n",
       "      <td>0.0</td>\n",
       "    </tr>\n",
       "    <tr>\n",
       "      <th>3</th>\n",
       "      <th>0</th>\n",
       "      <th>5</th>\n",
       "      <td>100.0</td>\n",
       "      <td>0.25</td>\n",
       "      <td>0.3</td>\n",
       "      <td>0.99</td>\n",
       "      <td>49.5</td>\n",
       "      <td>1.0</td>\n",
       "    </tr>\n",
       "    <tr>\n",
       "      <th>4</th>\n",
       "      <th>0</th>\n",
       "      <th>100</th>\n",
       "      <td>100.0</td>\n",
       "      <td>0.25</td>\n",
       "      <td>0.4</td>\n",
       "      <td>0.96</td>\n",
       "      <td>49.5</td>\n",
       "      <td>1.0</td>\n",
       "    </tr>\n",
       "    <tr>\n",
       "      <th>...</th>\n",
       "      <th>...</th>\n",
       "      <th>...</th>\n",
       "      <td>...</td>\n",
       "      <td>...</td>\n",
       "      <td>...</td>\n",
       "      <td>...</td>\n",
       "      <td>...</td>\n",
       "      <td>...</td>\n",
       "    </tr>\n",
       "    <tr>\n",
       "      <th>105</th>\n",
       "      <th>9</th>\n",
       "      <th>100</th>\n",
       "      <td>100.0</td>\n",
       "      <td>0.25</td>\n",
       "      <td>0.6</td>\n",
       "      <td>0.80</td>\n",
       "      <td>49.5</td>\n",
       "      <td>1.0</td>\n",
       "    </tr>\n",
       "    <tr>\n",
       "      <th>106</th>\n",
       "      <th>9</th>\n",
       "      <th>100</th>\n",
       "      <td>100.0</td>\n",
       "      <td>0.25</td>\n",
       "      <td>0.7</td>\n",
       "      <td>0.76</td>\n",
       "      <td>49.5</td>\n",
       "      <td>1.0</td>\n",
       "    </tr>\n",
       "    <tr>\n",
       "      <th>107</th>\n",
       "      <th>9</th>\n",
       "      <th>100</th>\n",
       "      <td>100.0</td>\n",
       "      <td>0.25</td>\n",
       "      <td>0.8</td>\n",
       "      <td>0.62</td>\n",
       "      <td>49.5</td>\n",
       "      <td>1.0</td>\n",
       "    </tr>\n",
       "    <tr>\n",
       "      <th>108</th>\n",
       "      <th>9</th>\n",
       "      <th>100</th>\n",
       "      <td>100.0</td>\n",
       "      <td>0.25</td>\n",
       "      <td>0.9</td>\n",
       "      <td>0.80</td>\n",
       "      <td>49.5</td>\n",
       "      <td>1.0</td>\n",
       "    </tr>\n",
       "    <tr>\n",
       "      <th>109</th>\n",
       "      <th>9</th>\n",
       "      <th>100</th>\n",
       "      <td>100.0</td>\n",
       "      <td>0.25</td>\n",
       "      <td>1.0</td>\n",
       "      <td>0.63</td>\n",
       "      <td>49.5</td>\n",
       "      <td>1.0</td>\n",
       "    </tr>\n",
       "  </tbody>\n",
       "</table>\n",
       "<p>110 rows × 6 columns</p>\n",
       "</div>"
      ],
      "text/plain": [
       "                          N    mu  sigma  engagement_ratio  AgentID  engaged\n",
       "RunId iteration Step                                                        \n",
       "0     0         100   100.0  0.25    0.0              0.00     49.5      0.0\n",
       "1     0         100   100.0  0.25    0.1              0.03     49.5      0.0\n",
       "2     0         100   100.0  0.25    0.2              0.09     49.5      0.0\n",
       "3     0         5     100.0  0.25    0.3              0.99     49.5      1.0\n",
       "4     0         100   100.0  0.25    0.4              0.96     49.5      1.0\n",
       "...                     ...   ...    ...               ...      ...      ...\n",
       "105   9         100   100.0  0.25    0.6              0.80     49.5      1.0\n",
       "106   9         100   100.0  0.25    0.7              0.76     49.5      1.0\n",
       "107   9         100   100.0  0.25    0.8              0.62     49.5      1.0\n",
       "108   9         100   100.0  0.25    0.9              0.80     49.5      1.0\n",
       "109   9         100   100.0  0.25    1.0              0.63     49.5      1.0\n",
       "\n",
       "[110 rows x 6 columns]"
      ]
     },
     "execution_count": 21,
     "metadata": {},
     "output_type": "execute_result"
    }
   ],
   "source": [
    "results_df.groupby(by=[\"RunId\", \"iteration\", \"Step\"]).median()"
   ]
  },
  {
   "cell_type": "markdown",
   "id": "9fcf0085",
   "metadata": {},
   "source": [
    "## Question 3\n",
    "\n",
    "3.1 Your final task is to investigate how the standard deviation (sigma) of the engagement tresholds distribution influences the final proportion of engaged agents, using a box plot.\n",
    "Box plot should be able to plot the average outcome for each sigma value.\n",
    "\n",
    "**Hint 1:** Your plot should look similar to Figure 2 in [this paper](https://www.jstor.org/stable/2778111) or one of the chart from the slides from the lecture. The phase transition should be visible on the graph.\n",
    "\n",
    "Put your code for answers 3.1 in the box below."
   ]
  },
  {
   "cell_type": "markdown",
   "id": "2a4fc5dc",
   "metadata": {},
   "source": [
    "### **Hint 2:** At the location ``# Answer 3.1 [Your code here]`` you have to implement:\n",
    "\n",
    "- plot the boxplot of engagement ratio values over sigma values from models data you have collected\n",
    "- using the Pandas ``.boxplot()`` method\n",
    "- group engagement ratio values by ``sigma``\n",
    "- plot the ``engagement_ratio`` column"
   ]
  },
  {
   "cell_type": "code",
   "execution_count": 22,
   "id": "79fafebb",
   "metadata": {
    "scrolled": false
   },
   "outputs": [],
   "source": [
    "# Answer 3.1 [Your code here]\n"
   ]
  },
  {
   "cell_type": "markdown",
   "id": "9bf232bc",
   "metadata": {},
   "source": [
    "3.2 Do you observe a phase transition in the proportion of engaged agents on your plot, similar to the given paper?\n",
    "\n",
    "3.3 If so, where aproximately lies the critical sigma value for the phase transition?\n",
    "\n",
    "3.4 What is the probability for an agent to have engagement treshold of 0 if we run our simulation with parameters for example sigma = 0.1 and mu = 0.2?\n",
    "\n",
    "Bonus question (not graded): \n",
    "\n",
    "What is the probability for an agent to have engagement treshold of 0.2 if we run our simulation with parameters for example sigma = 0.1 and mu = 0.2?\n",
    "\n",
    "\n",
    "\n",
    "Answer in text below."
   ]
  },
  {
   "cell_type": "markdown",
   "id": "cdaff600",
   "metadata": {},
   "source": [
    "## Answer 3.2, 3.3 and 3.4\n",
    "\n",
    "[Your text answer here]"
   ]
  },
  {
   "cell_type": "code",
   "execution_count": null,
   "id": "4f25a374",
   "metadata": {},
   "outputs": [],
   "source": []
  }
 ],
 "metadata": {
  "kernelspec": {
   "display_name": "Python 3 (ipykernel)",
   "language": "python",
   "name": "python3"
  },
  "language_info": {
   "codemirror_mode": {
    "name": "ipython",
    "version": 3
   },
   "file_extension": ".py",
   "mimetype": "text/x-python",
   "name": "python",
   "nbconvert_exporter": "python",
   "pygments_lexer": "ipython3",
   "version": "3.11.7"
  }
 },
 "nbformat": 4,
 "nbformat_minor": 5
}
